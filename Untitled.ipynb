{
 "cells": [
  {
   "cell_type": "code",
   "execution_count": 1,
   "id": "f534ac22",
   "metadata": {},
   "outputs": [
    {
     "name": "stdout",
     "output_type": "stream",
     "text": [
      "          Item  InList1  InList2  InList3\n",
      "0        apple     True     True     True\n",
      "1       banana     True     True    False\n",
      "2       cherry     True    False     True\n",
      "3  dragonfruit    False     True    False\n",
      "4   elderberry    False    False     True\n"
     ]
    }
   ],
   "source": [
    "import pandas as pd\n",
    "\n",
    "# Example lists\n",
    "list1 = ['apple', 'banana', 'cherry']\n",
    "list2 = ['banana', 'dragonfruit', 'apple']\n",
    "list3 = ['cherry', 'apple', 'elderberry']\n",
    "\n",
    "# Convert lists to DataFrames with an indicator column for each\n",
    "df1 = pd.DataFrame(list1, columns=['Item'])\n",
    "df1['InList1'] = True\n",
    "\n",
    "df2 = pd.DataFrame(list2, columns=['Item'])\n",
    "df2['InList2'] = True\n",
    "\n",
    "df3 = pd.DataFrame(list3, columns=['Item'])\n",
    "df3['InList3'] = True\n",
    "\n",
    "# Concatenate all dataframes\n",
    "df_union = pd.concat([df1, df2, df3])\n",
    "\n",
    "# Group by 'Item' and apply any() to aggregate the Boolean columns\n",
    "df_union = df_union.groupby('Item', as_index=False).any()\n",
    "\n",
    "# Fill NaN values with False where necessary\n",
    "df_union.fillna(False, inplace=True)\n",
    "\n",
    "# Display the resulting DataFrame\n",
    "print(df_union)\n"
   ]
  },
  {
   "cell_type": "code",
   "execution_count": 21,
   "id": "2bf30a84",
   "metadata": {},
   "outputs": [],
   "source": []
  },
  {
   "cell_type": "code",
   "execution_count": 28,
   "id": "b6282949",
   "metadata": {},
   "outputs": [],
   "source": [
    "import pandas as pd\n",
    "\n",
    "# Example DataFrame\n",
    "data = {\n",
    "    'Category': ['Fruit', 'Fruit', 'Vegetable', 'Fruit', 'Vegetable', 'Vegetable'],\n",
    "    'Items': ['Apple', 'Banana', 'Carrot', 'Apple', 'Beetroot', 'Carrot']\n",
    "}\n",
    "df = pd.DataFrame(data)\n",
    "\n",
    "\n"
   ]
  }
 ],
 "metadata": {
  "kernelspec": {
   "display_name": "Python 3 (ipykernel)",
   "language": "python",
   "name": "python3"
  },
  "language_info": {
   "codemirror_mode": {
    "name": "ipython",
    "version": 3
   },
   "file_extension": ".py",
   "mimetype": "text/x-python",
   "name": "python",
   "nbconvert_exporter": "python",
   "pygments_lexer": "ipython3",
   "version": "3.11.5"
  }
 },
 "nbformat": 4,
 "nbformat_minor": 5
}

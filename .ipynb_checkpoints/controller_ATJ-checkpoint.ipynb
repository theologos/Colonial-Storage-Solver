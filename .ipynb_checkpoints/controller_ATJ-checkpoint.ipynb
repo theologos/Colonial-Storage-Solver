{
 "cells": [
  {
   "cell_type": "code",
   "execution_count": 1,
   "id": "3cbb178f",
   "metadata": {},
   "outputs": [
    {
     "name": "stdout",
     "output_type": "stream",
     "text": [
      "Done\n"
     ]
    },
    {
     "data": {
      "text/plain": [
       "<function my_functions.function_model_stage1(ID, index, CycleVolIn2, CycleVolOut2, CycleVolExist, Bounds, Capacity, Tanks, T, Time)>"
      ]
     },
     "execution_count": 1,
     "metadata": {},
     "output_type": "execute_result"
    }
   ],
   "source": [
    "import pandas as pd\n",
    "import numpy as num\n",
    "import matplotlib.pyplot as plt\n",
    "import gurobipy as gp\n",
    "from   gurobipy import GRB\n",
    "import time\n",
    "import datetime\n",
    "import math\n",
    "import my_functions_const as fc\n",
    "import my_functions as f\n",
    "import csv\n",
    "#import mod_1_input_ATJ as m\n",
    "\n",
    "print(\"Done\")\n",
    "f.function_model_stage1"
   ]
  },
  {
   "cell_type": "code",
   "execution_count": null,
   "id": "35c19249",
   "metadata": {},
   "outputs": [],
   "source": [
    "# # Attributes\n",
    "# T         = m.T\n",
    "# Time      = list(range(T))\n",
    "# Bounds    = m.Bounds\n",
    "# Tanks     = m.Tanks\n",
    "# Capacity  = m.Capacity\n",
    "\n",
    "# topo_i = m.topo_i\n",
    "# topo_o = m.topo_o "
   ]
  },
  {
   "cell_type": "code",
   "execution_count": null,
   "id": "57cc0a3a",
   "metadata": {},
   "outputs": [],
   "source": [
    "CycleVolOut2  = {'13': {'54': 24, '62': 132},\n",
    "                 '14': {'62': 62, 'A': 136, 'D': 25},\n",
    "                 '15': {'A': 254, 'D': 88},\n",
    "                 '16': {'54': 239},\n",
    "                 '17': {'62': 242, 'A': 212},\n",
    "                 '18': {'54': 15, '62': 219, 'A': 342, 'D': 19},\n",
    "                 '19': {'62': 19, 'A': 311, 'D': 53},\n",
    "                 '1A': {'A': 3, 'D': 5},\n",
    "                 '20': {'54': 43, '62': 62},\n",
    "                 '2A': {'62': 3}\n",
    "                }"
   ]
  },
  {
   "cell_type": "code",
   "execution_count": null,
   "id": "150fd975",
   "metadata": {},
   "outputs": [],
   "source": [
    "f.function_model_stage1"
   ]
  },
  {
   "cell_type": "code",
   "execution_count": null,
   "id": "3e9f1f02",
   "metadata": {},
   "outputs": [],
   "source": [
    "with open('results/VolIn_3.csv', 'r') as f:\n",
    "    reader = csv.reader(f)\n",
    "    data1 = {}\n",
    "    for row in reader:\n",
    "        data1[row[0]] = eval(row[1])\n",
    "VolIn = data1 \n",
    "\n",
    "with open('results/VolOut_3.csv', 'r') as f:\n",
    "    reader = csv.reader(f)\n",
    "    data1 = {}\n",
    "    for row in reader:\n",
    "        data1[row[0]] = eval(row[1])\n",
    "VolOut = data1    \n",
    "\n",
    "with open('results/VolExist_3.csv', 'r') as f:\n",
    "    reader = csv.reader(f)\n",
    "    data1 = {}\n",
    "    for row in reader:\n",
    "        data1[row[0]] = eval(row[1])\n",
    "VolExist = data1    "
   ]
  },
  {
   "cell_type": "code",
   "execution_count": null,
   "id": "5f2149dc",
   "metadata": {},
   "outputs": [],
   "source": [
    "VolExist['041']"
   ]
  },
  {
   "cell_type": "code",
   "execution_count": null,
   "id": "c0c2cae4",
   "metadata": {},
   "outputs": [],
   "source": [
    "import my_functions as f\n",
    "\n",
    "f.function_model_stage1"
   ]
  },
  {
   "cell_type": "code",
   "execution_count": null,
   "id": "5050750b",
   "metadata": {},
   "outputs": [],
   "source": [
    "index = fc.function_index(Time, topo_i, topo_o)"
   ]
  },
  {
   "cell_type": "code",
   "execution_count": null,
   "id": "7d99b5cf",
   "metadata": {},
   "outputs": [],
   "source": [
    "ID = 1\n",
    "\n",
    "# Inputs for ID = 1\n",
    "CycleVolIn2   = {'01': {'A': 1302, 'D': 194}, '02': {'54': 320, '62': 913}}\n",
    "CycleVolOut2  = {'13': {'54': 24, '62': 132},\n",
    "                 '14': {'62': 62, 'A': 136, 'D': 25},\n",
    "                 '15': {'A': 254, 'D': 88},\n",
    "                 '16': {'54': 239},\n",
    "                 '17': {'62': 242, 'A': 212},\n",
    "                 '18': {'54': 15, '62': 219, 'A': 342, 'D': 19},\n",
    "                 '19': {'62': 19, 'A': 311, 'D': 53},\n",
    "                 '1A': {'A': 3, 'D': 5},\n",
    "                 '20': {'54': 43, '62': 62},\n",
    "                 '2A': {'62': 3}}\n",
    "CycleVolExist = {312.0: {'D': 49},\n",
    "                 316.0: {'D': 24},\n",
    "                 317.0: {'A': 99},\n",
    "                 330.0: {'A': 90},\n",
    "                 331.0: {'A': 54},\n",
    "                 332.0: {'A': 5},\n",
    "                 333.0: {'A': 5},\n",
    "                 334.0: {'A': 7},\n",
    "                 336.0: {'A': 89},\n",
    "                 337.0: {'D': 13},\n",
    "                 338.0: {'A': 6},\n",
    "                 339.0: {'A': 12},\n",
    "                 350.0: {'54': 4},\n",
    "                 351.0: {'54': 5},\n",
    "                 352.0: {'54': 6},\n",
    "                 353.0: {'54': 7},\n",
    "                 354.0: {'54': 25},\n",
    "                 ###360.0: {'62': 986},\n",
    "                 #361.0: {'62': 990},\n",
    "                 ###370.0: {'54': 2},\n",
    "                 371.0: {'62': 42},\n",
    "                 ###372.0: {'96': 23},\n",
    "                 373.0: {'62': 88},\n",
    "                 374.0: {'62': 10}}"
   ]
  },
  {
   "cell_type": "code",
   "execution_count": null,
   "id": "a528c3cc",
   "metadata": {},
   "outputs": [],
   "source": [
    "data     = f.function_model_stage1(ID, index, CycleVolIn2, CycleVolOut2, CycleVolExist, Bounds, Capacity, Tanks, T, Time)"
   ]
  },
  {
   "cell_type": "code",
   "execution_count": null,
   "id": "2cd94d86",
   "metadata": {},
   "outputs": [],
   "source": [
    "schedule = f.function_model_stage2(ID, index, CycleVolIn2, CycleVolOut2, CycleVolExist, Bounds, Capacity, Tanks, T, Time)"
   ]
  },
  {
   "cell_type": "code",
   "execution_count": null,
   "id": "5f0f05e0",
   "metadata": {},
   "outputs": [],
   "source": [
    "ID = 2\n",
    "\n",
    "# External Inputs\n",
    "CycleVolIn2   = m.CycleVolIn2\n",
    "CycleVolOut2  = m.CycleVolOut2\n",
    "\n",
    "# Feed Input\n",
    "with open(\"opt_CycleVolExist_1.csv\", \"r\") as file:\n",
    "    reader = csv.reader(file)\n",
    "    next(reader) # skip header row\n",
    "    my_dict = {int(rows[0]): eval(rows[1]) for rows in reader} \n",
    "    \n",
    "CycleVolExist = my_dict "
   ]
  },
  {
   "cell_type": "code",
   "execution_count": null,
   "id": "00ff3196",
   "metadata": {},
   "outputs": [],
   "source": [
    "data     = f.function_model_stage1(ID, index, CycleVolIn2, CycleVolOut2, CycleVolExist, Bounds, Capacity, Tanks, T, Time)"
   ]
  },
  {
   "cell_type": "code",
   "execution_count": null,
   "id": "0eb13ca4",
   "metadata": {},
   "outputs": [],
   "source": [
    "schedule = f.function_model_stage2(ID, index, CycleVolIn2, CycleVolOut2, CycleVolExist, Bounds, Capacity, Tanks, T, Time)"
   ]
  },
  {
   "cell_type": "code",
   "execution_count": null,
   "id": "01732fc7",
   "metadata": {},
   "outputs": [],
   "source": [
    "ID = 3\n",
    "\n",
    "# External Inputs\n",
    "CycleVolIn2   = m.CycleVolIn2\n",
    "CycleVolOut2  = m.CycleVolOut2\n",
    "\n",
    "# Feed Input\n",
    "with open(\"opt_CycleVolExist_2.csv\", \"r\") as file:\n",
    "    reader = csv.reader(file)\n",
    "    next(reader) # skip header row\n",
    "    my_dict = {int(rows[0]): eval(rows[1]) for rows in reader} \n",
    "    \n",
    "CycleVolExist = my_dict \n",
    "\n",
    "\n",
    "CycleVolExist"
   ]
  },
  {
   "cell_type": "code",
   "execution_count": null,
   "id": "ca60894c",
   "metadata": {},
   "outputs": [],
   "source": [
    "data     = f.function_model_stage1(ID, index, CycleVolIn2, CycleVolOut2, CycleVolExist, Bounds, Capacity, Tanks, T, Time)"
   ]
  },
  {
   "cell_type": "code",
   "execution_count": null,
   "id": "2a6ecc5b",
   "metadata": {},
   "outputs": [],
   "source": [
    "schedule = f.function_model_stage2(ID, index, CycleVolIn2, CycleVolOut2, CycleVolExist, Bounds, Capacity, Tanks, T, Time)"
   ]
  },
  {
   "cell_type": "code",
   "execution_count": null,
   "id": "2813aced",
   "metadata": {},
   "outputs": [],
   "source": [
    "ID = 4\n",
    "\n",
    "# External Inputs\n",
    "CycleVolIn2   = m.CycleVolIn2\n",
    "CycleVolOut2  = m.CycleVolOut2\n",
    "\n",
    "# Feed Input\n",
    "with open(\"results/opt_CycleVolExist_3.csv\", \"r\") as file:\n",
    "    reader = csv.reader(file)\n",
    "    next(reader) # skip header row\n",
    "    my_dict = {int(rows[0]): eval(rows[1]) for rows in reader} \n",
    "    \n",
    "CycleVolExist = my_dict "
   ]
  },
  {
   "cell_type": "code",
   "execution_count": null,
   "id": "731a65e7",
   "metadata": {},
   "outputs": [],
   "source": [
    "data     = f.function_model_stage1(ID, index, CycleVolIn2, CycleVolOut2, CycleVolExist, Bounds, Capacity, Tanks, T, Time)"
   ]
  },
  {
   "cell_type": "code",
   "execution_count": null,
   "id": "ed44ca4f",
   "metadata": {},
   "outputs": [],
   "source": [
    "schedule = f.function_model_stage2(ID, index, CycleVolIn2, CycleVolOut2, CycleVolExist, Bounds, Capacity, Tanks, T, Time)"
   ]
  },
  {
   "cell_type": "code",
   "execution_count": null,
   "id": "7363416a",
   "metadata": {},
   "outputs": [],
   "source": [
    "ID = 5\n",
    "\n",
    "# External Inputs\n",
    "CycleVolIn2   = m.CycleVolIn2\n",
    "CycleVolOut2  = m.CycleVolOut2\n",
    "\n",
    "# Feed Input\n",
    "with open(\"results/opt_CycleVolExist_4.csv\", \"r\") as file:\n",
    "    reader = csv.reader(file)\n",
    "    next(reader) # skip header row\n",
    "    my_dict = {int(rows[0]): eval(rows[1]) for rows in reader} \n",
    "    \n",
    "CycleVolExist = my_dict "
   ]
  },
  {
   "cell_type": "code",
   "execution_count": null,
   "id": "340d020c",
   "metadata": {},
   "outputs": [],
   "source": [
    "data     = f.function_model_stage1(ID, index, CycleVolIn2, CycleVolOut2, CycleVolExist, Bounds, Capacity, Tanks, T, Time)"
   ]
  },
  {
   "cell_type": "code",
   "execution_count": null,
   "id": "5b44ff8c",
   "metadata": {},
   "outputs": [],
   "source": [
    "schedule = f.function_model_stage2(ID, index, CycleVolIn2, CycleVolOut2, CycleVolExist, Bounds, Capacity, Tanks, T, Time)"
   ]
  }
 ],
 "metadata": {
  "kernelspec": {
   "display_name": "Python 3 (ipykernel)",
   "language": "python",
   "name": "python3"
  },
  "language_info": {
   "codemirror_mode": {
    "name": "ipython",
    "version": 3
   },
   "file_extension": ".py",
   "mimetype": "text/x-python",
   "name": "python",
   "nbconvert_exporter": "python",
   "pygments_lexer": "ipython3",
   "version": "3.9.7"
  }
 },
 "nbformat": 4,
 "nbformat_minor": 5
}

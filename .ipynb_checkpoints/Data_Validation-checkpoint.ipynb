{
 "cells": [
  {
   "cell_type": "markdown",
   "id": "2804f464",
   "metadata": {},
   "source": [
    "# Data Validation"
   ]
  },
  {
   "cell_type": "code",
   "execution_count": 1,
   "id": "cd7b4790",
   "metadata": {},
   "outputs": [],
   "source": [
    "import pandas as pd\n",
    "import numpy as num\n",
    "import matplotlib.pyplot as plt\n",
    "import gurobipy as gp\n",
    "from   gurobipy import GRB\n",
    "import time\n",
    "import datetime\n",
    "import math\n",
    "import csv\n",
    "import os\n",
    "import warnings\n",
    "warnings.filterwarnings('ignore') "
   ]
  },
  {
   "cell_type": "markdown",
   "id": "1f16bec9",
   "metadata": {},
   "source": [
    "## 1. Reading the data"
   ]
  },
  {
   "cell_type": "code",
   "execution_count": 2,
   "id": "c965474c",
   "metadata": {},
   "outputs": [],
   "source": [
    "with open('results/VolIn_3.csv', 'r') as f:\n",
    "    reader = csv.reader(f)\n",
    "    data1 = {}\n",
    "    for row in reader:\n",
    "        data1[row[0]] = eval(row[1])\n",
    "VolIn = data1 \n",
    "\n",
    "with open('results/VolOut_3.csv', 'r') as f:\n",
    "    reader = csv.reader(f)\n",
    "    data1 = {}\n",
    "    for row in reader:\n",
    "        data1[row[0]] = eval(row[1])\n",
    "VolOut = data1  \n",
    "\n",
    "with open('results/VolExist_3.csv', 'r') as f:\n",
    "    reader = csv.reader(f)\n",
    "    data1 = {}\n",
    "    for row in reader:\n",
    "        data1[row[0]] = eval(row[1])\n",
    "VolExist = data1   "
   ]
  },
  {
   "cell_type": "markdown",
   "id": "5b8a5e00",
   "metadata": {},
   "source": [
    "## 2. First round of validations\n",
    "\n",
    "Check that all the keys are the same. Note that: \n",
    "1. Keys correspond to the different <b> cycles </b>.\n",
    "2. Keys of VolIn, VolOut & VolExist <b> should be the same. </b>"
   ]
  },
  {
   "cell_type": "code",
   "execution_count": 3,
   "id": "b2996e0d",
   "metadata": {},
   "outputs": [
    {
     "name": "stdout",
     "output_type": "stream",
     "text": [
      "****** Check 1: Keys ******\n",
      "Success: Keys are the same\n"
     ]
    }
   ],
   "source": [
    "keys1 = sorted(list(VolIn.keys()))\n",
    "keys2 = sorted(list(VolOut.keys()))\n",
    "keys3 = sorted(list(VolExist.keys()))\n",
    "print(\"****** Check 1: Keys ******\")\n",
    "if keys1 == keys2 and keys1 == keys3:\n",
    "    print(\"Success: Keys are the same\")\n",
    "else:\n",
    "    print(\"Failure: Keys are not the same\")\n",
    "    print(sorted(keys1))\n",
    "    print(sorted(keys2))\n",
    "    print(sorted(keys3))   "
   ]
  },
  {
   "cell_type": "markdown",
   "id": "aa5dfd57",
   "metadata": {},
   "source": [
    "## 3. Second round of validations\n",
    "\n",
    "In the second round of validations we check:\n",
    "1. Visually check the <b> lines </b>\n",
    "2. Whether the <b> products </b> in VolIn & VolOut are the same"
   ]
  },
  {
   "cell_type": "code",
   "execution_count": 4,
   "id": "b9bfc210",
   "metadata": {},
   "outputs": [],
   "source": [
    "def validation_metadata(VolExist, VolIn, VolOut):\n",
    "    \n",
    "    #--------------------------------------------------------\n",
    "    # Check 1: Lines\n",
    "    #\n",
    "    lines = []\n",
    "    for cycle in VolIn:\n",
    "        lines.extend((list(VolIn[cycle].keys())))   \n",
    "    lines = set(lines) \n",
    "    lines1 = sorted(lines)\n",
    "\n",
    "    lines = []\n",
    "    for cycle in VolOut:\n",
    "        lines.extend((list(VolOut[cycle].keys())))   \n",
    "    lines  = set(lines) \n",
    "    lines2 = sorted(lines)\n",
    "    print(\"****** Check 1: Lines ******\")\n",
    "    print(\"VolIn  -> \", lines1)\n",
    "    print(\"VolOut -> \", lines2)\n",
    "    \n",
    "    #--------------------------------------------------------\n",
    "    # Check 2: Products\n",
    "    #\n",
    "    prod = []\n",
    "    for cycle in VolIn:\n",
    "        for line in VolIn[cycle]:\n",
    "            prod.extend((list(VolIn[cycle][line].keys())))   \n",
    "    prod = set(prod) \n",
    "    prod1 = sorted(prod)\n",
    "\n",
    "    prod = []\n",
    "    for cycle in VolOut:\n",
    "        for line in VolOut[cycle]:\n",
    "            prod.extend((list(VolOut[cycle][line].keys())))   \n",
    "    prod  = set(prod) \n",
    "    prod2 = sorted(prod)\n",
    "    \n",
    "    prod = []\n",
    "    for cycle in VolExist:\n",
    "        for tank in VolExist[cycle]:\n",
    "            prod.extend((list(VolExist[cycle][tank].keys())))   \n",
    "    prod  = set(prod) \n",
    "    prod3 = sorted(prod)\n",
    "    \n",
    "    print(\"****** Check 2: Products ******\")\n",
    "    print(\"VolIn  -> \", prod1)\n",
    "    print(\"VolOut -> \", prod2)\n",
    "    print(\"VolExist -> \", prod3)\n",
    "    if prod1 == prod2:\n",
    "        print(\"Success: Products are the same\")\n",
    "    else:\n",
    "        print(\"Failure: Products are not the same\")"
   ]
  },
  {
   "cell_type": "code",
   "execution_count": 5,
   "id": "c75dc282",
   "metadata": {},
   "outputs": [
    {
     "name": "stdout",
     "output_type": "stream",
     "text": [
      "****** Check 1: Lines ******\n",
      "VolIn  ->  ['01', '02']\n",
      "VolOut ->  ['13', '14', '15', '16', '17', '18', '19', '1A', '20', '2A']\n",
      "****** Check 2: Products ******\n",
      "VolIn  ->  ['54', '62', 'A', 'D']\n",
      "VolOut ->  ['54', '62', 'A', 'D']\n",
      "VolExist ->  ['54', '62', 'A', 'D']\n",
      "Success: Products are the same\n"
     ]
    }
   ],
   "source": [
    "validation_metadata(VolExist, VolIn, VolOut)"
   ]
  },
  {
   "cell_type": "markdown",
   "id": "ff5a9492",
   "metadata": {},
   "source": [
    "## 4. Third round\n",
    "\n",
    "In the third round we check\n",
    "1. The inflow & outflow of each <b> product </b> and whether the net is positive. Otherwise there is a data error in the original files that needs to be removed. "
   ]
  },
  {
   "cell_type": "code",
   "execution_count": 6,
   "id": "a9d92814",
   "metadata": {},
   "outputs": [],
   "source": [
    "def validation_data(VolExist, VolIn, VolOut):\n",
    "\n",
    "    ret = {}\n",
    "    for cycle in VolIn:\n",
    "\n",
    "        CycleVolIn    = VolIn[cycle]\n",
    "        CycleVolOut   = VolOut[cycle]\n",
    "        CycleVolExist = VolExist[cycle]\n",
    "\n",
    "        data = []\n",
    "        for line in CycleVolOut:\n",
    "            for prod in CycleVolOut[line]:\n",
    "                row = [prod, CycleVolOut[line][prod]]\n",
    "                data.append(row)\n",
    "\n",
    "        d  = pd.DataFrame(data, columns=['Product', 'Volume'])  \n",
    "        d  = d.groupby(['Product']).agg({'Volume': 'sum'}) \n",
    "        d  = d.reset_index()\n",
    "        dO = d\n",
    "\n",
    "        data = []\n",
    "        for line in CycleVolIn:\n",
    "            for prod in CycleVolIn[line]:\n",
    "                row = [prod, CycleVolIn[line][prod]]\n",
    "                data.append(row)\n",
    "\n",
    "        d  = pd.DataFrame(data, columns=['Product', 'Volume'])  \n",
    "        d  = d.groupby(['Product']).agg({'Volume': 'sum'}) \n",
    "        d  = d.reset_index()\n",
    "        dI = d\n",
    "\n",
    "        data = []\n",
    "        for line in CycleVolExist:\n",
    "            for prod in CycleVolExist[line]:\n",
    "                row = [prod, CycleVolExist[line][prod]]\n",
    "                data.append(row)\n",
    "\n",
    "        d  = pd.DataFrame(data, columns=['Product', 'Volume'])  \n",
    "        d  = d.groupby(['Product']).agg({'Volume': 'sum'}) \n",
    "        d  = d.reset_index()\n",
    "        dE = d\n",
    "\n",
    "        dEI = pd.merge(dE, dI, on=['Product'], how = 'outer')\n",
    "        df = pd.merge(dEI, dO, on=['Product'], how = 'outer')\n",
    "        df = df.rename(columns={'Volume_x': 'Volume_Exists', 'Volume_y': 'Volume_In', 'Volume': 'Volume_Out'})\n",
    "        df['Diff'] = df['Volume_Exists'] + df['Volume_In'] - df['Volume_Out']\n",
    "\n",
    "        ret[cycle] = df\n",
    "        \n",
    "    return (ret)        "
   ]
  },
  {
   "cell_type": "code",
   "execution_count": 7,
   "id": "1fbea5d5",
   "metadata": {},
   "outputs": [
    {
     "name": "stdout",
     "output_type": "stream",
     "text": [
      "031\n",
      "  Product  Volume_Exists  Volume_In  Volume_Out  Diff\n",
      "0      54             36        324         180   180\n",
      "1      62            105        365         185   285\n",
      "2       A            159       1418        1318   259\n",
      "3       D             90        213         187   116\n",
      "041\n",
      "  Product  Volume_Exists  Volume_In  Volume_Out  Diff\n",
      "0      54             86        325         299   112\n",
      "1      62            110        779         544   345\n",
      "2       A            327       1650        1624   353\n",
      "3       D             79        190         177    92\n",
      "051\n",
      "  Product  Volume_Exists  Volume_In  Volume_Out  Diff\n",
      "0      54             96        269         285    80\n",
      "1      62             97        918         477   538\n",
      "2       A            231       1344        1236   339\n",
      "3       D             81        241         197   125\n",
      "061\n",
      "  Product  Volume_Exists  Volume_In  Volume_Out  Diff\n",
      "0      54             36        345         319    62\n",
      "1      62           1024        899         818  1105\n",
      "2       A            477       1003        1272   208\n",
      "3       D             60        202         211    51\n",
      "071\n",
      "  Product  Volume_Exists  Volume_In  Volume_Out  Diff\n",
      "0      54             45        297         301    41\n",
      "1      62            296        532         700   128\n",
      "2       A            404       1293        1176   521\n",
      "3       D             56        190         149    97\n",
      "081\n",
      "  Product  Volume_Exists  Volume_In  Volume_Out  Diff\n",
      "0      54             59        311         273    97\n",
      "1      62             89        904         612   381\n",
      "2       A            321       1424        1426   319\n",
      "3       D             85        172         170    87\n"
     ]
    }
   ],
   "source": [
    "ret = validation_data(VolExist, VolIn, VolOut)\n",
    "for cycle in ret:\n",
    "    print(cycle)\n",
    "    print(ret[cycle])"
   ]
  },
  {
   "cell_type": "code",
   "execution_count": 8,
   "id": "c9770030",
   "metadata": {},
   "outputs": [
    {
     "name": "stdout",
     "output_type": "stream",
     "text": [
      "For Product A the sequence is [2    259\n",
      "dtype: int64, 2    285\n",
      "dtype: int64, 2    393\n",
      "dtype: int64, 2    124\n",
      "dtype: int64, 2    241\n",
      "dtype: int64, 2    239\n",
      "dtype: int64]\n",
      "For Product D the sequence is [3    116\n",
      "dtype: int64, 3    129\n",
      "dtype: int64, 3    173\n",
      "dtype: int64, 3    164\n",
      "dtype: int64, 3    205\n",
      "dtype: int64, 3    207\n",
      "dtype: int64]\n",
      "For Product 54 the sequence is [0    180\n",
      "dtype: int64, 0    206\n",
      "dtype: int64, 0    190\n",
      "dtype: int64, 0    216\n",
      "dtype: int64, 0    212\n",
      "dtype: int64, 0    250\n",
      "dtype: int64]\n",
      "For Product 62 the sequence is [1    285\n",
      "dtype: int64, 1    520\n",
      "dtype: int64, 1    961\n",
      "dtype: int64, 1    1042\n",
      "dtype: int64, 1    874\n",
      "dtype: int64, 1    1166\n",
      "dtype: int64]\n"
     ]
    }
   ],
   "source": [
    "prods  = ['A', 'D', '54', '62']\n",
    "#rods  = ['A']\n",
    "cycles = ['041', '051', '061', '071', '081']\n",
    "\n",
    "for prod in prods:\n",
    "    vol = []\n",
    "    df     = ret['031']\n",
    "    a  = df.loc[df['Product'] == prod]['Volume_Exists'] + df.loc[df['Product'] == prod]['Volume_In'] - df.loc[df['Product'] == prod]['Volume_Out']\n",
    "    vol.append(a)\n",
    "    for cycle in cycles:\n",
    "        df = ret[cycle]\n",
    "        a  = a + df.loc[df['Product'] == prod]['Volume_In'] - df.loc[df['Product'] == prod]['Volume_Out']\n",
    "        vol.append(a)\n",
    "    print(\"For Product \" + prod + \" the sequence is \" + str(vol))"
   ]
  },
  {
   "cell_type": "markdown",
   "id": "047fb483",
   "metadata": {},
   "source": [
    "## 5. Aligning with model inputs\n",
    "\n",
    "In this section we make sure the data align with the <b> fixed </b> model inputs."
   ]
  },
  {
   "cell_type": "code",
   "execution_count": 9,
   "id": "7e41cda7",
   "metadata": {},
   "outputs": [
    {
     "name": "stdout",
     "output_type": "stream",
     "text": [
      "True\n",
      "True\n",
      "[310, 311, 312, 313, 314, 316, 317, 330, 331, 332, 333, 334, 336, 337, 338, 339, 350, 351, 352, 353, 354, 360, 361, 363, 370, 371, 373, 374, 375, 376]\n",
      "[310, 311, 312, 313, 314, 316, 317, 330, 331, 332, 333, 334, 336, 337, 338, 339, 350, 351, 352, 353, 354, 360, 361, 363, 370, 371, 373, 374, 375, 376]\n"
     ]
    }
   ],
   "source": [
    "%run ./Execution_1_fixedinputs.ipynb"
   ]
  },
  {
   "cell_type": "markdown",
   "id": "b95e7871",
   "metadata": {},
   "source": [
    "### Tanks"
   ]
  },
  {
   "cell_type": "code",
   "execution_count": 10,
   "id": "84bf0927",
   "metadata": {},
   "outputs": [],
   "source": [
    "tanks_ = []\n",
    "for cycle in VolExist:\n",
    "    row = list(VolExist[cycle].keys())\n",
    "    tanks_.extend(row)\n",
    "\n",
    "my_dict_data = sorted(set(tanks_))"
   ]
  },
  {
   "cell_type": "code",
   "execution_count": 11,
   "id": "4f08e68a",
   "metadata": {},
   "outputs": [
    {
     "name": "stdout",
     "output_type": "stream",
     "text": [
      "310 True\n",
      "311 True\n",
      "312 True\n",
      "313 True\n",
      "314 True\n",
      "316 True\n",
      "317 True\n",
      "330 True\n",
      "331 True\n",
      "332 True\n",
      "333 True\n",
      "334 True\n",
      "336 True\n",
      "337 True\n",
      "338 True\n",
      "339 True\n",
      "350 True\n",
      "351 True\n",
      "352 True\n",
      "353 True\n",
      "354 True\n",
      "360 True\n",
      "361 True\n",
      "370 True\n",
      "371 True\n",
      "373 True\n",
      "374 True\n"
     ]
    }
   ],
   "source": [
    "for tank in my_dict_data:\n",
    "    print(tank, tank in Tanks)"
   ]
  },
  {
   "cell_type": "markdown",
   "id": "afd46db3",
   "metadata": {},
   "source": [
    "### Tanks: Check products going through tanks "
   ]
  },
  {
   "cell_type": "code",
   "execution_count": 12,
   "id": "5d88b925",
   "metadata": {},
   "outputs": [
    {
     "data": {
      "text/plain": [
       "{310: ['A'],\n",
       " 311: ['A'],\n",
       " 312: ['D'],\n",
       " 313: ['A'],\n",
       " 314: ['A'],\n",
       " 316: ['D'],\n",
       " 317: ['A'],\n",
       " 330: ['A'],\n",
       " 331: ['A'],\n",
       " 332: ['A'],\n",
       " 333: ['A'],\n",
       " 334: ['A'],\n",
       " 336: ['A'],\n",
       " 337: ['D'],\n",
       " 338: ['A'],\n",
       " 339: ['A'],\n",
       " 350: ['54'],\n",
       " 351: ['54'],\n",
       " 352: ['54'],\n",
       " 353: ['54'],\n",
       " 354: ['54'],\n",
       " 360: ['62'],\n",
       " 361: ['62'],\n",
       " 370: ['54'],\n",
       " 371: ['62'],\n",
       " 373: ['62'],\n",
       " 374: ['62']}"
      ]
     },
     "execution_count": 12,
     "metadata": {},
     "output_type": "execute_result"
    }
   ],
   "source": [
    "tanks2 = []\n",
    "for cycle in VolExist:\n",
    "    for tank in VolExist[cycle]:\n",
    "        for prod in VolExist[cycle][tank]:\n",
    "            tanks2.append([tank, prod])\n",
    "tanks2 = [list(x) for x in set(tuple(x) for x in tanks2)]\n",
    "\n",
    "from operator import itemgetter\n",
    "tanks2 = sorted(tanks2, key=itemgetter(0))\n",
    "    \n",
    "my_dict = {}    \n",
    "for key, value in tanks2:\n",
    "    if key in my_dict:\n",
    "        my_dict[key].append(value)\n",
    "    else:\n",
    "        my_dict[key] = [value] \n",
    "        \n",
    "my_dict      "
   ]
  },
  {
   "cell_type": "markdown",
   "id": "74d7e542",
   "metadata": {},
   "source": [
    "### Topology: Tank/Line/Product Routes\n",
    "\n",
    "Check whether the data topology is a subset of the input topology."
   ]
  },
  {
   "cell_type": "code",
   "execution_count": 13,
   "id": "7f79358e",
   "metadata": {},
   "outputs": [],
   "source": [
    "tanks2 = []\n",
    "for tank in topo_o:\n",
    "    for line in topo_o[tank]:\n",
    "        for prod in topo_o[tank][line]:\n",
    "            tanks2.append([tank, line, prod])\n",
    "            \n",
    "my_dict = {}            \n",
    "for tank, line, prod in tanks2:\n",
    "    if tank in my_dict:\n",
    "        my_dict[tank].append([line,prod])\n",
    "    else:\n",
    "        my_dict[tank] = [[line,prod]]\n",
    "\n",
    "mydict_input = my_dict"
   ]
  },
  {
   "cell_type": "code",
   "execution_count": 14,
   "id": "6c34feb1",
   "metadata": {},
   "outputs": [],
   "source": [
    "with open('results/Topology_3.csv', 'r') as f:\n",
    "    reader = csv.reader(f)\n",
    "    data1 = {}\n",
    "    for row in reader:\n",
    "        data1[row[0]] = eval(row[1])\n",
    "mydict_data = data1  "
   ]
  },
  {
   "cell_type": "markdown",
   "id": "2d8de9d9",
   "metadata": {},
   "source": [
    "Compare the two topologies"
   ]
  },
  {
   "cell_type": "code",
   "execution_count": 15,
   "id": "6b4eab80",
   "metadata": {},
   "outputs": [
    {
     "name": "stdout",
     "output_type": "stream",
     "text": [
      "353 :  True\n",
      "374 :  True\n",
      "317 :  True\n",
      "336 :  True\n",
      "371 :  True\n",
      "330 :  True\n",
      "312 :  True\n",
      "350 :  True\n",
      "351 :  True\n",
      "352 :  True\n",
      "338 :  True\n",
      "331 :  True\n",
      "332 :  True\n",
      "316 :  True\n",
      "354 :  True\n",
      "360 :  True\n",
      "310 :  True\n",
      "311 :  True\n",
      "333 :  True\n",
      "337 :  True\n",
      "361 :  True\n",
      "370 :  True\n",
      "373 :  True\n",
      "314 :  True\n",
      "339 :  True\n",
      "334 :  True\n",
      "313 :  True\n"
     ]
    }
   ],
   "source": [
    "for tank in mydict_data:\n",
    "    a = mydict_data[tank]\n",
    "    if int(tank) not in mydict_input:\n",
    "        b = [] \n",
    "    else:\n",
    "        b = mydict_input[int(tank)]\n",
    "    c = set(map(tuple, a)).issubset(set(map(tuple, b)))\n",
    "    print(tank, \": \", c)\n",
    "    if c is False:\n",
    "        print(a, \"***\" , b)"
   ]
  },
  {
   "cell_type": "markdown",
   "id": "1004cbc1",
   "metadata": {},
   "source": [
    "### Topology: Line/Product"
   ]
  },
  {
   "cell_type": "code",
   "execution_count": 16,
   "id": "c6a98714",
   "metadata": {},
   "outputs": [
    {
     "data": {
      "text/plain": [
       "{'13': ['54', '62'],\n",
       " '14': ['62', 'D', 'A'],\n",
       " '15': ['D', 'A'],\n",
       " '16': ['54'],\n",
       " '17': ['D', 'A', '62'],\n",
       " '18': ['54', '62', 'D', 'A'],\n",
       " '19': ['62', 'D', 'A'],\n",
       " '1A': ['D', 'A'],\n",
       " '20': ['54', '62'],\n",
       " '2A': ['62']}"
      ]
     },
     "execution_count": 16,
     "metadata": {},
     "output_type": "execute_result"
    }
   ],
   "source": [
    "lines2 = []\n",
    "for cycle in VolOut:\n",
    "    for line in VolOut[cycle]:\n",
    "        for prod in VolOut[cycle][line]:\n",
    "            lines2.append([line, prod])\n",
    "lines2 = [list(x) for x in set(tuple(x) for x in lines2)]\n",
    "from operator import itemgetter\n",
    "sorted(lines2, key=itemgetter(0))\n",
    "\n",
    "my_dict = {}\n",
    "\n",
    "for key, value in lines2:\n",
    "    if key in my_dict:\n",
    "        my_dict[key].append(value)\n",
    "    else:\n",
    "        my_dict[key] = [value]\n",
    "        \n",
    "sorted_dict = {k: v for k, v in sorted(my_dict.items())}\n",
    "mydict_data = sorted_dict\n",
    "mydict_data"
   ]
  },
  {
   "cell_type": "code",
   "execution_count": 17,
   "id": "1b58f0ca",
   "metadata": {},
   "outputs": [
    {
     "data": {
      "text/plain": [
       "{'13': ['A', '54', '62', 'D'],\n",
       " '14': ['62', 'D', 'A', '54'],\n",
       " '15': ['D', 'A'],\n",
       " '16': ['54'],\n",
       " '17': ['D', 'A', '54', '62'],\n",
       " '18': ['62', 'A', 'D', '54'],\n",
       " '19': ['62', 'D', 'A', '54'],\n",
       " '1A': ['D', 'A'],\n",
       " '20': ['54', '62'],\n",
       " '2A': ['62', '54']}"
      ]
     },
     "execution_count": 17,
     "metadata": {},
     "output_type": "execute_result"
    }
   ],
   "source": [
    "lines2 = []\n",
    "for tank in topo_o:\n",
    "    for line in topo_o[tank]:\n",
    "        for prod in topo_o[tank][line]:\n",
    "            lines2.append([line, prod])\n",
    "            \n",
    "lines2 = [list(x) for x in set(tuple(x) for x in lines2)]\n",
    "from operator import itemgetter\n",
    "lines2 = sorted(lines2, key=itemgetter(0))  \n",
    "\n",
    "my_dict = {}\n",
    "for key, value in lines2:\n",
    "    if key in my_dict:\n",
    "        my_dict[key].append(value)\n",
    "    else:\n",
    "        my_dict[key] = [value]\n",
    "\n",
    "mydict_input = my_dict\n",
    "mydict_input"
   ]
  },
  {
   "cell_type": "code",
   "execution_count": 18,
   "id": "6da112d4",
   "metadata": {},
   "outputs": [
    {
     "name": "stdout",
     "output_type": "stream",
     "text": [
      "13 :  True\n",
      "14 :  True\n",
      "15 :  True\n",
      "16 :  True\n",
      "17 :  True\n",
      "18 :  True\n",
      "19 :  True\n",
      "1A :  True\n",
      "20 :  True\n",
      "2A :  True\n"
     ]
    }
   ],
   "source": [
    "for line in mydict_data:\n",
    "    a = mydict_data[line]\n",
    "    if line not in mydict_input:\n",
    "        b = [] \n",
    "    else:\n",
    "        b = mydict_input[line]\n",
    "    c = set(map(tuple, a)).issubset(set(map(tuple, b)))\n",
    "    print(line, \": \", c)\n",
    "    if c is False:\n",
    "        print(a, \"***\" , b)   "
   ]
  },
  {
   "cell_type": "markdown",
   "id": "4746fef6",
   "metadata": {},
   "source": [
    "## Notes\n",
    "\n",
    "1. The data has Tanks not present in the matrix: 310, 360, 370, 373\n",
    "2. The data also has topology paths not present in the matrix:\n",
    "    2.1 ['20', 'A'] \n",
    "    2.2 ['20', 'D']\n"
   ]
  },
  {
   "cell_type": "code",
   "execution_count": 19,
   "id": "69534f43",
   "metadata": {},
   "outputs": [],
   "source": [
    "#-------------------------------------------------\n",
    "# 021\n",
    "#\n",
    "# cycle = '021' \n",
    "# CycleVolIn2   = VolIn[cycle]\n",
    "# CycleVolOut2  = VolOut[cycle]\n",
    "# CycleVolExist  = VolExist[cycle]\n",
    "\n",
    "# temp_ = {}    \n",
    "# for tank in CycleVolExist:\n",
    "#      for prod in CycleVolExist[tank]:\n",
    "#         if prod in temp_:\n",
    "#              temp_[prod] = temp_[prod] + CycleVolExist[tank][prod]\n",
    "#         else:\n",
    "#              temp_[prod] = CycleVolExist[tank][prod]\n",
    "# temp_ = {k:v for k,v in sorted(temp_.items())}\n",
    "# temp_Exist = temp_\n",
    "\n",
    "# temp_ = {}    \n",
    "# for tank in CycleVolOut2:\n",
    "#     for prod in CycleVolOut2[tank]:\n",
    "#         if prod in temp_:\n",
    "#             temp_[prod] = temp_[prod] + CycleVolOut2[tank][prod]\n",
    "#         else:\n",
    "#             temp_[prod] = CycleVolOut2[tank][prod]\n",
    "# temp_ = {k:v for k,v in sorted(temp_.items())}\n",
    "# temp_Out = temp_\n",
    "\n",
    "# temp_ = {}    \n",
    "# for tank in CycleVolIn2:\n",
    "#     for prod in CycleVolIn2[tank]:\n",
    "#         if prod in temp_:\n",
    "#             temp_[prod] = temp_[prod] + CycleVolIn2[tank][prod]\n",
    "#         else:\n",
    "#             temp_[prod] = CycleVolIn2[tank][prod]\n",
    "# temp_ = {k:v for k,v in sorted(temp_.items())}\n",
    "# temp_In = temp_\n",
    "\n",
    "# temp_In\n",
    "# temp_Out\n",
    "# temp_Exist\n",
    " \n",
    "# temp_Exist_next = {}\n",
    "# for prod in temp_Exist:\n",
    "#     temp_Exist_next[prod] = temp_Exist[prod] + temp_In[prod] - temp_Out[prod]\n",
    "  \n",
    "# print(\"Load at the end of 021 - Theoretical\")\n",
    "# print(temp_Exist)\n",
    "# print(temp_In)\n",
    "# print(temp_Out)\n",
    "# print(\"-------------\")\n",
    "# print(temp_Exist_next)\n",
    "# print(\"-------------\")\n",
    "# #---------------------------------------------------------------------------------\n",
    "# #\n",
    "# #\n",
    "# with open(\"results/opt_CycleVolExist_1.csv\", \"r\") as file:\n",
    "#     reader = csv.reader(file)\n",
    "#     next(reader) # skip header row\n",
    "#     my_dict = {int(rows[0]): eval(rows[1]) for rows in reader} \n",
    "    \n",
    "# CycleVolExist = my_dict \n",
    "# temp_ = {}    \n",
    "# for tank in CycleVolExist:\n",
    "#      for prod in CycleVolExist[tank]:\n",
    "#         if prod in temp_:\n",
    "#              temp_[prod] = temp_[prod] + CycleVolExist[tank][prod]\n",
    "#         else:\n",
    "#              temp_[prod] = CycleVolExist[tank][prod]\n",
    "# temp_ = {k:v for k,v in sorted(temp_.items())}\n",
    "# print(\"Load at the end of 021 - Model\")\n",
    "# print(temp_)\n",
    "# print(\"-------------\")\n",
    "# #---------------------------------------------------------------------------------\n",
    "# #\n",
    "# #\n",
    "# print(\"Load at the beginning of 031\")\n",
    "# CycleVolExist  = VolExist['031']\n",
    "# temp_ = {}    \n",
    "# for tank in CycleVolExist:\n",
    "#      for prod in CycleVolExist[tank]:\n",
    "#         if prod in temp_:\n",
    "#              temp_[prod] = temp_[prod] + CycleVolExist[tank][prod]\n",
    "#         else:\n",
    "#              temp_[prod] = CycleVolExist[tank][prod]\n",
    "# temp_ = {k:v for k,v in sorted(temp_.items())}\n",
    "# temp_Exist = temp_\n",
    "# print(temp_)"
   ]
  }
 ],
 "metadata": {
  "kernelspec": {
   "display_name": "Python 3 (ipykernel)",
   "language": "python",
   "name": "python3"
  },
  "language_info": {
   "codemirror_mode": {
    "name": "ipython",
    "version": 3
   },
   "file_extension": ".py",
   "mimetype": "text/x-python",
   "name": "python",
   "nbconvert_exporter": "python",
   "pygments_lexer": "ipython3",
   "version": "3.9.7"
  }
 },
 "nbformat": 4,
 "nbformat_minor": 5
}

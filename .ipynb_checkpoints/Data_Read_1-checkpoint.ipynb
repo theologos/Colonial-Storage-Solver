{
 "cells": [
  {
   "cell_type": "code",
   "execution_count": 40,
   "id": "202f3d9d",
   "metadata": {},
   "outputs": [],
   "source": [
    "import pandas as pd\n",
    "import numpy as num\n",
    "import matplotlib.pyplot as plt\n",
    "import gurobipy as gp\n",
    "from   gurobipy import GRB\n",
    "import time\n",
    "import datetime\n",
    "import math\n",
    "import csv\n",
    "import Data_Functions as f"
   ]
  },
  {
   "cell_type": "code",
   "execution_count": 41,
   "id": "cb4fdd9f",
   "metadata": {},
   "outputs": [],
   "source": [
    "#---------------------------------------------------------------------------\n",
    "# Read the file\n",
    "#\n",
    "filename1 = 'data_new_1/tickets_ATJ_v4.csv'\n",
    "filename2 = 'data_new_1/capacities_ATJ.csv'\n",
    "\n",
    "df   = pd.read_csv (filename1, encoding=\"ISO-8859-1\")"
   ]
  },
  {
   "cell_type": "code",
   "execution_count": 42,
   "id": "25a51d92",
   "metadata": {},
   "outputs": [],
   "source": [
    "#---------------------------------------------------------------------------\n",
    "# Prepare the file for analysis \n",
    "#\n",
    "cols = ['CODE', \n",
    "        'START_DATE_TIME', \n",
    "        'FINISH_DATE_TIME', \n",
    "        'PIPELINE', \n",
    "        'TANK', \n",
    "        'VOLUME', \n",
    "        'VOLUME_TANK']\n",
    "\n",
    "# Alter the dataframe\n",
    "df = df[cols]\n",
    "df = df.rename(columns={'CODE': 'Code',\n",
    "                        'PIPELINE': 'Line', \n",
    "                        'START_DATE_TIME':'Start_Date_Time', \n",
    "                        'FINISH_DATE_TIME':'Finish_Date_Time', \n",
    "                        'TANK':'Tank', \n",
    "                        'VOLUME':'Volume', \n",
    "                        'VOLUME_TANK':'Volume_Tank'\n",
    "                       })\n",
    "\n",
    "temp = df['Code'].str.extract(r'(\\w+)-(\\w+)-(\\w+)')\n",
    "temp.columns = ['Client', 'Product', 'Cycle']\n",
    "df = pd.concat([df, temp], axis=1)\n",
    "\n",
    "df['Date']             = pd.to_datetime(df['Start_Date_Time'])\n",
    "df['Start']  = pd.to_datetime(df['Start_Date_Time'])\n",
    "df['Finish'] = pd.to_datetime(df['Finish_Date_Time'])\n",
    "\n",
    "# Add product columns\n",
    "def product(df):\n",
    "    if (df['Product'] in ['A3', 'A4']):\n",
    "        return 'A'\n",
    "    elif (df['Product'] in ['D3', 'D4']):    \n",
    "        return 'D'\n",
    "    else:\n",
    "        return df['Product']\n",
    "    \n",
    "df['Product'] = df.apply(product, axis = 1)\n",
    "\n",
    "# Fix Line column into string\n",
    "def line(df):\n",
    "    if (df['Line'] in [1]):\n",
    "        return '01'\n",
    "    elif (df['Line'] in [2]):\n",
    "        return '02'\n",
    "    else:\n",
    "        return str(df['Line'])\n",
    "    \n",
    "df['Line'] = df.apply(line, axis = 1)\n",
    "\n",
    "# Type\n",
    "def typ(df):\n",
    "    if (df['Line'] in ['01', '02']):\n",
    "        return 'In'\n",
    "    else:\n",
    "        return 'Out'\n",
    "    \n",
    "df['Type']    = df.apply(typ, axis = 1)"
   ]
  },
  {
   "cell_type": "code",
   "execution_count": 43,
   "id": "461c299b",
   "metadata": {},
   "outputs": [],
   "source": [
    "df['Volume'] = df['Volume']/1000\n",
    "df['Volume_Tank'] = df['Volume_Tank']/1000"
   ]
  },
  {
   "cell_type": "code",
   "execution_count": 44,
   "id": "c914e57b",
   "metadata": {},
   "outputs": [],
   "source": [
    "df['Volume'] = df['Volume'].round()\n",
    "df['Volume_Tank'] = df['Volume_Tank'].round()"
   ]
  },
  {
   "cell_type": "code",
   "execution_count": 45,
   "id": "a6c17ddf",
   "metadata": {},
   "outputs": [],
   "source": [
    "df = df[~df['Tank'].isin([310, 360, 370, 373])]\n",
    "df= df[~(df['Line'].isin(['20']) & df['Product'].isin(['A']))]\n",
    "df = df[~(df['Line'].isin(['20']) & df['Product'].isin(['D']))]"
   ]
  },
  {
   "cell_type": "code",
   "execution_count": 46,
   "id": "a14684e4",
   "metadata": {},
   "outputs": [],
   "source": [
    "ret = f.data_volume(df)"
   ]
  },
  {
   "cell_type": "code",
   "execution_count": 47,
   "id": "20b81e2a",
   "metadata": {},
   "outputs": [
    {
     "data": {
      "text/plain": [
       "{'VolIn': {'511': {'01': {'A': 1448, 'D': 227}, '02': {'54': 302, '62': 718}}},\n",
       " 'VolOut': {'511': {'13': {'62': 121},\n",
       "   '14': {'62': 64, 'A': 112, 'D': 34},\n",
       "   '15': {'A': 253, 'D': 72},\n",
       "   '16': {'54': 213},\n",
       "   '17': {'62': 196, 'A': 181, 'D': 29},\n",
       "   '18': {'54': 20, '62': 234, 'A': 396, 'D': 31},\n",
       "   '19': {'A': 436, 'D': 54},\n",
       "   '20': {'54': 45, '62': 26}}},\n",
       " 'VolExist': {'511': {311: {'A': 3},\n",
       "   312: {'D': 4},\n",
       "   313: {'A': 5},\n",
       "   314: {'A': 4},\n",
       "   316: {'D': 5},\n",
       "   317: {'A': 6},\n",
       "   330: {'A': 5},\n",
       "   331: {'A': 4},\n",
       "   332: {'A': 5},\n",
       "   333: {'A': 5},\n",
       "   334: {'A': 11},\n",
       "   336: {'A': 4},\n",
       "   337: {'D': 4},\n",
       "   338: {'A': 31},\n",
       "   339: {'A': 15},\n",
       "   350: {'54': 3},\n",
       "   351: {'54': 4},\n",
       "   352: {'54': 5},\n",
       "   353: {'54': 6},\n",
       "   354: {'54': 27},\n",
       "   361: {'62': 1},\n",
       "   371: {'62': 112},\n",
       "   374: {'62': 1},\n",
       "   375: {'62': 11},\n",
       "   376: {'62': 13}}}}"
      ]
     },
     "execution_count": 47,
     "metadata": {},
     "output_type": "execute_result"
    }
   ],
   "source": [
    "ret\n"
   ]
  },
  {
   "cell_type": "code",
   "execution_count": 48,
   "id": "80c66504",
   "metadata": {},
   "outputs": [],
   "source": [
    "VolIn = ret['VolIn']\n",
    "with open('results/VolIn_1.csv', 'w', newline=\"\") as f:\n",
    "    writer = csv.writer(f)\n",
    "    for key, value in VolIn.items():\n",
    "        writer.writerow([key, value])\n",
    "\n",
    "VolOut = ret['VolOut']\n",
    "with open('results/VolOut_1.csv', 'w', newline=\"\") as f:\n",
    "    writer = csv.writer(f)\n",
    "    for key, value in VolOut.items():\n",
    "        writer.writerow([key, value])   \n",
    " \n",
    "VolExist = ret['VolExist']\n",
    "with open('results/VolExist_1.csv', 'w', newline=\"\") as f:\n",
    "    writer = csv.writer(f)\n",
    "    for key, value in VolExist.items():\n",
    "        writer.writerow([key, value])    "
   ]
  }
 ],
 "metadata": {
  "kernelspec": {
   "display_name": "Python 3 (ipykernel)",
   "language": "python",
   "name": "python3"
  },
  "language_info": {
   "codemirror_mode": {
    "name": "ipython",
    "version": 3
   },
   "file_extension": ".py",
   "mimetype": "text/x-python",
   "name": "python",
   "nbconvert_exporter": "python",
   "pygments_lexer": "ipython3",
   "version": "3.9.7"
  }
 },
 "nbformat": 4,
 "nbformat_minor": 5
}

{
 "cells": [
  {
   "cell_type": "code",
   "execution_count": 2,
   "id": "83ee1e47",
   "metadata": {},
   "outputs": [
    {
     "name": "stdout",
     "output_type": "stream",
     "text": [
      "Hello\n"
     ]
    }
   ],
   "source": [
    "def long_running_function():\n",
    "    execution_steps = []\n",
    "    for i in range(1, 6):\n",
    "        time.sleep(1)  # Simulate a time-consuming step\n",
    "        step_message = f\"Step {i}: Executing...\"\n",
    "        print(step_message)\n",
    "    \n",
    "    result = \"Function execution completed!\"\n",
    "    print(result)\n",
    "    return execution_steps, result\n",
    "\n",
    "\n",
    "print(\"Hello\")"
   ]
  },
  {
   "cell_type": "code",
   "execution_count": 4,
   "id": "4327d92b",
   "metadata": {},
   "outputs": [
    {
     "data": {
      "text/html": [
       "\n",
       "        <iframe\n",
       "            width=\"100%\"\n",
       "            height=\"650\"\n",
       "            src=\"http://127.0.0.1:8057/\"\n",
       "            frameborder=\"0\"\n",
       "            allowfullscreen\n",
       "            \n",
       "        ></iframe>\n",
       "        "
      ],
      "text/plain": [
       "<IPython.lib.display.IFrame at 0x1621e3ab370>"
      ]
     },
     "metadata": {},
     "output_type": "display_data"
    }
   ],
   "source": [
    "import dash\n",
    "import dash_bootstrap_components as dbc\n",
    "import dash_core_components as dcc\n",
    "import dash_html_components as html\n",
    "from dash.dependencies import Input, Output, State\n",
    "import threading\n",
    "import time\n",
    "import sys\n",
    "\n",
    "app = dash.Dash(__name__, external_stylesheets=[dbc.themes.BOOTSTRAP], suppress_callback_exceptions=True)\n",
    "\n",
    "app.layout = html.Div([\n",
    "    html.Button(\"Run Function\", id=\"run-function\"),\n",
    "    dbc.Modal([\n",
    "        dbc.ModalHeader(\"Function Execution Messages\"),\n",
    "        dbc.ModalBody([\n",
    "            dcc.Interval(id=\"message-interval\", interval=1000),\n",
    "            html.Div(id=\"messages-output\")\n",
    "        ]),\n",
    "        dbc.ModalFooter([\n",
    "            dbc.Button(\"Close\", id=\"close-modal\", className=\"ml-auto\")\n",
    "        ]),\n",
    "    ], id=\"modal\"),\n",
    "])\n",
    "\n",
    "messages = []  # Global list to store messages\n",
    "\n",
    "def custom_logger(message):\n",
    "    messages.append(message)\n",
    "\n",
    "@app.callback(\n",
    "    Output(\"modal\", \"is_open\"),\n",
    "    [Input(\"run-function\", \"n_clicks\"), Input(\"close-modal\", \"n_clicks\")],\n",
    "    [State(\"modal\", \"is_open\")],\n",
    ")\n",
    "def toggle_modal(n_run, n_close, is_open):\n",
    "    if n_run:\n",
    "        messages.clear()  # Clear existing messages\n",
    "        sys.stdout.write = custom_logger\n",
    "        execution_thread = threading.Thread(target=long_running_function)\n",
    "        execution_thread.start()\n",
    "        return True\n",
    "    elif n_close:\n",
    "        sys.stdout.write = sys.__stdout__.write  # Restore stdout\n",
    "        return False\n",
    "    return is_open\n",
    "\n",
    "@app.callback(\n",
    "    Output(\"messages-output\", \"children\"),\n",
    "    [Input(\"message-interval\", \"n_intervals\")],\n",
    ")\n",
    "def display_execution_messages(n_intervals):\n",
    "    return [html.P(msg) for msg in messages]\n",
    "\n",
    "# Function that generates messages during execution\n",
    "def long_running_function():\n",
    "    for i in range(1, 6):\n",
    "        time.sleep(1)\n",
    "        step_message = f\"Executing Step {i}\"\n",
    "        print(step_message)\n",
    "\n",
    "    result = \"Function execution completed!\"\n",
    "    print(result)\n",
    "\n",
    "if __name__ == '__main__':\n",
    "    app.run_server(debug=True, port=8057)"
   ]
  }
 ],
 "metadata": {
  "kernelspec": {
   "display_name": "Python 3 (ipykernel)",
   "language": "python",
   "name": "python3"
  },
  "language_info": {
   "codemirror_mode": {
    "name": "ipython",
    "version": 3
   },
   "file_extension": ".py",
   "mimetype": "text/x-python",
   "name": "python",
   "nbconvert_exporter": "python",
   "pygments_lexer": "ipython3",
   "version": "3.9.7"
  }
 },
 "nbformat": 4,
 "nbformat_minor": 5
}

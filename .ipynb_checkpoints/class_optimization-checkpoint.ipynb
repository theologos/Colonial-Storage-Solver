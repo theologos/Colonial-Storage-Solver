{
 "cells": [
  {
   "cell_type": "code",
   "execution_count": null,
   "id": "5126b213",
   "metadata": {},
   "outputs": [],
   "source": [
    "class Optimization(data_optimizations):\n",
    "    def __init__(self):\n",
    "        self.data_optimizations = DataOptimizations()"
   ]
  }
 ],
 "metadata": {
  "kernelspec": {
   "display_name": "Python 3 (ipykernel)",
   "language": "python",
   "name": "python3"
  },
  "language_info": {
   "codemirror_mode": {
    "name": "ipython",
    "version": 3
   },
   "file_extension": ".py",
   "mimetype": "text/x-python",
   "name": "python",
   "nbconvert_exporter": "python",
   "pygments_lexer": "ipython3",
   "version": "3.9.7"
  }
 },
 "nbformat": 4,
 "nbformat_minor": 5
}

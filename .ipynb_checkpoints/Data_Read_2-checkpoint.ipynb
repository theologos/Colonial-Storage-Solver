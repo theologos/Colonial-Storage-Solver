{
 "cells": [
  {
   "cell_type": "code",
   "execution_count": 28,
   "id": "d832a8fd",
   "metadata": {},
   "outputs": [],
   "source": [
    "import pandas as pd\n",
    "import numpy as num\n",
    "import matplotlib.pyplot as plt\n",
    "import gurobipy as gp\n",
    "from   gurobipy import GRB\n",
    "import time\n",
    "import datetime\n",
    "import math\n",
    "import csv\n",
    "import os\n",
    "import warnings\n",
    "import re\n",
    "warnings.filterwarnings('ignore')\n",
    "import Data_Functions as f"
   ]
  },
  {
   "cell_type": "code",
   "execution_count": 29,
   "id": "10fe9fdf",
   "metadata": {},
   "outputs": [],
   "source": [
    "directory = 'C:/Users/bount/Colonial-Storage/data_new_2/'\n",
    "filenames = os.listdir(directory)\n",
    "cd = os.getcwd()"
   ]
  },
  {
   "cell_type": "code",
   "execution_count": 30,
   "id": "2611de32",
   "metadata": {},
   "outputs": [],
   "source": [
    "dfs = []\n",
    "for file in filenames:\n",
    "    df = pd.read_excel (directory + file, header=0, sheet_name = \"Sheet1\")\n",
    "    df['file']  = file\n",
    "    df['Start'] = pd.to_datetime(df['Start Date/Time'])\n",
    "    df['End']   = pd.to_datetime(df['End Date/Time'])\n",
    "    df['Identifier'] = df['Code'] + '//' + df['Start'].apply(lambda x: x.strftime('%Y-%m-%d %H:%M:%S')) + '//' + df['End'].apply(lambda x: x.strftime('%Y-%m-%d %H:%M:%S')) + '//' + df['Line'].astype(str)\n",
    "    dfs.append(df)\n",
    "\n",
    "df_1 = pd.concat(dfs)"
   ]
  },
  {
   "cell_type": "code",
   "execution_count": 31,
   "id": "9c776c7b",
   "metadata": {},
   "outputs": [],
   "source": [
    "#-------------------------------------------------------------------------\n",
    "# Break down the code\n",
    "#\n",
    "temp = df_1['Code'].str.extract(r'(\\w+)-(\\w+)-(\\w+)')\n",
    "temp.columns = ['Client', 'Product', 'Cycle']\n",
    "df_1 = pd.concat([df_1, temp], axis=1)\n",
    "\n",
    "#-------------------------------------------------------------------------\n",
    "# Product\n",
    "#\n",
    "def product(df):\n",
    "    if (df['Product Grade'] in ['A3', 'A4']):\n",
    "        return 'A'\n",
    "    elif (df['Product Grade'] in ['D3', 'D4']):\n",
    "        return 'D'\n",
    "    else:\n",
    "        return df['Product Grade']\n",
    "df_1['Product'] = df_1.apply(product, axis = 1)\n",
    "df_1['Product'] = df_1['Product'].astype(str)\n",
    "    \n",
    "#-------------------------------------------------------------------------\n",
    "# Line\n",
    "#    \n",
    "def line(df):\n",
    "    if (df['Line'] in [1]):\n",
    "        return '01'\n",
    "    if (df['Line'] in [2]):\n",
    "        return '02'\n",
    "    else:\n",
    "        return df['Line']\n",
    "df_1['Line']    = df_1.apply(line, axis = 1)\n",
    "df_1['Line']    = df_1['Line'].astype(str)\n",
    "\n",
    "#-------------------------------------------------------------------------\n",
    "# Line\n",
    "#\n",
    "def typ(df):\n",
    "    if (df['Line'] in ['01', '02']):\n",
    "        return 'In'\n",
    "    else:\n",
    "        return 'Out'\n",
    "df_1['Type']    = df_1.apply(typ, axis = 1)\n",
    "\n",
    "#-------------------------------------------------------------------------\n",
    "# Exclude\n",
    "#\n",
    "df_1['Time_difference'] = df_1['End'] - df_1['Start']\n",
    "df_1['Time_in_hours']   = df_1['Time_difference'] / pd.Timedelta(hours=1)\n",
    "df_1['Vol_per_Hr']      = df_1['Volume'] / df_1['Time_in_hours']\n",
    "def exclude(df):\n",
    "    if (df['Vol_per_Hr'] >= 50):\n",
    "        return 1\n",
    "    else:\n",
    "        return 0    \n",
    "df_1['Exclude'] = df_1.apply(exclude, axis = 1)\n",
    "\n",
    "#-------------------------------------------------------------------------\n",
    "# Misc\n",
    "#\n",
    "df_1 = df_1.rename(columns={'Vol Tank':'Volume_Tank'})"
   ]
  },
  {
   "cell_type": "code",
   "execution_count": 32,
   "id": "716dab6e",
   "metadata": {},
   "outputs": [
    {
     "name": "stdout",
     "output_type": "stream",
     "text": [
      "We are excluding 52 rows.\n"
     ]
    }
   ],
   "source": [
    "#-------------------------------------------------------------------------\n",
    "# Exclude columns with errors\n",
    "# \n",
    "print('We are excluding ' + str(sum(df_1['Exclude'])) + ' rows.')\n",
    "df_1 = df_1[df_1['Exclude'] == 0]"
   ]
  },
  {
   "cell_type": "code",
   "execution_count": 33,
   "id": "018791d6",
   "metadata": {},
   "outputs": [],
   "source": [
    "#-------------------------------------------------------------------------\n",
    "# Create the \"Pick\" column\n",
    "# \n",
    "#df_1['Rank'] = df_1.groupby('Identifier')['file'].rank(ascending = False)\n",
    "#df_1[df_1['Rank'] > 1]\n",
    "# Calculate the Volume for each cycle/line/file combination\n",
    "# df_2         = df_1.groupby(['Cycle', 'Line', 'file']).agg({'Volume': ['sum']}).reset_index()\n",
    "# df_2.columns = [i[0]+\"_\"+i[1] for i in df_2.columns]\n",
    "# df_2         = df_2.rename(columns={'Cycle_': 'Cycle', 'Line_': 'Line', 'file_': 'file', 'Volume_sum': 'Volume'})\n",
    "# # Rank the entries by Volume with each cycle/line segment\n",
    "# df_2['Rank'] = df_2.groupby(['Cycle', 'Line'])['Volume'].rank(ascending = False)\n",
    "\n",
    "df_2         = df_1.groupby(['Cycle', 'file']).agg({'Volume': ['sum']}).reset_index()\n",
    "df_2.columns = [i[0]+\"_\"+i[1] for i in df_2.columns]\n",
    "df_2         = df_2.rename(columns={'Cycle_': 'Cycle', 'file_': 'file', 'Volume_sum': 'Volume'})\n",
    "df_2['Rank'] = df_2.groupby(['Cycle'])['Volume'].rank(ascending = False)\n",
    "# Keep only the highest entry (Rank = 1)\n",
    "df_2         = df_2[df_2['Rank'] == 1]\n",
    "df_2['Pick'] = 1\n",
    "df_2         = df_2.drop(['Volume', 'Rank'], axis=1)"
   ]
  },
  {
   "cell_type": "code",
   "execution_count": 34,
   "id": "d7ce4efd",
   "metadata": {},
   "outputs": [],
   "source": [
    "df_3       = pd.merge(df_1, df_2, on = ['Cycle', 'file'], how='outer')\n",
    "df_4       = df_3[df_3['Pick'] == 1]\n",
    "df_tickets = df_4"
   ]
  },
  {
   "cell_type": "code",
   "execution_count": 35,
   "id": "593d63e4",
   "metadata": {},
   "outputs": [
    {
     "name": "stdout",
     "output_type": "stream",
     "text": [
      "***Cycle***\n",
      "['611', '542', '602', '551', '531', '571', '603', '592', '562', '593', '601', '552', '582', '573', '581', '604', '561', '541', '563', '591', '59H']\n",
      "***Tanks***\n",
      "[310.0, 311.0, 312.0, 313.0, 314.0, 315.0, 316.0, 317.0, 330.0, 331.0, 332.0, 333.0, 334.0, 336.0, 337.0, 338.0, 339.0, 350.0, 351.0, 352.0, 353.0, 354.0, 361.0, 363.0, 370.0, 371.0, 372.0, 373.0, 374.0, 375.0, 376.0]\n",
      "***Products***\n",
      "['M3', 'M4', '54', 'V3', '96', 'V4', 'D', 'A', '62']\n"
     ]
    }
   ],
   "source": [
    "#---------------------------------------------------------------------------\n",
    "# Remove rows\n",
    "#\n",
    "# nan_values = df_tickets.isna()\n",
    "# index = df_tickets.loc[nan_values['Tank'] == True].index\n",
    "# df_tickets = df_tickets.drop(index=index)\n",
    "\n",
    "#---------------------------------------------------------------------------\n",
    "# Audit and remove values\n",
    "#\n",
    "def audit(df):\n",
    "    print(\"***Cycle***\")\n",
    "    print(list(set(list(df.Cycle))))\n",
    "    print(\"***Tanks***\")\n",
    "    print(list(set(list(df.Tank))))\n",
    "    print(\"***Products***\")\n",
    "    print(list(set(list(df.Product))))\n",
    "    \n",
    "audit(df_tickets)  "
   ]
  },
  {
   "cell_type": "code",
   "execution_count": 36,
   "id": "acde46d9",
   "metadata": {},
   "outputs": [],
   "source": [
    "ret = f.data_volume(df_tickets)"
   ]
  },
  {
   "cell_type": "code",
   "execution_count": 37,
   "id": "534a61a7",
   "metadata": {},
   "outputs": [],
   "source": [
    "VolIn = ret['VolIn']\n",
    "with open('results/VolIn_2.csv', 'w', newline=\"\") as f:\n",
    "    writer = csv.writer(f)\n",
    "    for key, value in VolIn.items():\n",
    "        writer.writerow([key, value])\n",
    "\n",
    "VolOut = ret['VolOut']\n",
    "with open('results/VolOut_2.csv', 'w', newline=\"\") as f:\n",
    "    writer = csv.writer(f)\n",
    "    for key, value in VolOut.items():\n",
    "        writer.writerow([key, value])   \n",
    " \n",
    "VolExist = ret['VolExist']\n",
    "with open('results/VolExist_2.csv', 'w', newline=\"\") as f:\n",
    "    writer = csv.writer(f)\n",
    "    for key, value in VolExist.items():\n",
    "        writer.writerow([key, value]) "
   ]
  },
  {
   "cell_type": "code",
   "execution_count": 50,
   "id": "e9905e0d",
   "metadata": {},
   "outputs": [],
   "source": [
    "# df = df_3[(df_3['Cycle'] == '551') & (df_3['Pick'] == 1)]\n",
    "# #df.groupby(['Type', 'Product']).agg({'Volume': ['sum']})\n",
    "# df.to_csv(\"results/temp.csv\")"
   ]
  }
 ],
 "metadata": {
  "kernelspec": {
   "display_name": "Python 3 (ipykernel)",
   "language": "python",
   "name": "python3"
  },
  "language_info": {
   "codemirror_mode": {
    "name": "ipython",
    "version": 3
   },
   "file_extension": ".py",
   "mimetype": "text/x-python",
   "name": "python",
   "nbconvert_exporter": "python",
   "pygments_lexer": "ipython3",
   "version": "3.9.7"
  }
 },
 "nbformat": 4,
 "nbformat_minor": 5
}
